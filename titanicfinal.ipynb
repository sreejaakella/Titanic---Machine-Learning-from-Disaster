{
 "cells": [
  {
   "cell_type": "code",
   "execution_count": 1,
   "id": "bce39948",
   "metadata": {
    "_cell_guid": "b1076dfc-b9ad-4769-8c92-a6c4dae69d19",
    "_uuid": "8f2839f25d086af736a60e9eeb907d3b93b6e0e5",
    "execution": {
     "iopub.execute_input": "2023-10-29T07:11:02.510104Z",
     "iopub.status.busy": "2023-10-29T07:11:02.509769Z",
     "iopub.status.idle": "2023-10-29T07:11:02.831892Z",
     "shell.execute_reply": "2023-10-29T07:11:02.830363Z"
    },
    "papermill": {
     "duration": 0.333071,
     "end_time": "2023-10-29T07:11:02.834634",
     "exception": false,
     "start_time": "2023-10-29T07:11:02.501563",
     "status": "completed"
    },
    "tags": []
   },
   "outputs": [
    {
     "name": "stdout",
     "output_type": "stream",
     "text": [
      "/kaggle/input/titanic/train.csv\n",
      "/kaggle/input/titanic/test.csv\n",
      "/kaggle/input/titanic/gender_submission.csv\n"
     ]
    }
   ],
   "source": [
    "# This Python 3 environment comes with many helpful analytics libraries installed\n",
    "# It is defined by the kaggle/python Docker image: https://github.com/kaggle/docker-python\n",
    "# For example, here's several helpful packages to load\n",
    "\n",
    "import numpy as np # linear algebra\n",
    "import pandas as pd # data processing, CSV file I/O (e.g. pd.read_csv)\n",
    "\n",
    "# Input data files are available in the read-only \"../input/\" directory\n",
    "# For example, running this (by clicking run or pressing Shift+Enter) will list all files under the input directory\n",
    "\n",
    "import os\n",
    "for dirname, _, filenames in os.walk('/kaggle/input'):\n",
    "    for filename in filenames:\n",
    "        print(os.path.join(dirname, filename))\n",
    "\n",
    "# You can write up to 20GB to the current directory (/kaggle/working/) that gets preserved as output when you create a version using \"Save & Run All\" \n",
    "# You can also write temporary files to /kaggle/temp/, but they won't be saved outside of the current session"
   ]
  },
  {
   "cell_type": "code",
   "execution_count": 2,
   "id": "a4a0b690",
   "metadata": {
    "execution": {
     "iopub.execute_input": "2023-10-29T07:11:02.850753Z",
     "iopub.status.busy": "2023-10-29T07:11:02.849506Z",
     "iopub.status.idle": "2023-10-29T07:11:02.904815Z",
     "shell.execute_reply": "2023-10-29T07:11:02.903729Z"
    },
    "papermill": {
     "duration": 0.066389,
     "end_time": "2023-10-29T07:11:02.907583",
     "exception": false,
     "start_time": "2023-10-29T07:11:02.841194",
     "status": "completed"
    },
    "tags": []
   },
   "outputs": [
    {
     "name": "stdout",
     "output_type": "stream",
     "text": [
      "********** Dataset info **********\n",
      "<class 'pandas.core.frame.DataFrame'>\n",
      "RangeIndex: 891 entries, 0 to 890\n",
      "Data columns (total 12 columns):\n",
      " #   Column       Non-Null Count  Dtype  \n",
      "---  ------       --------------  -----  \n",
      " 0   PassengerId  891 non-null    int64  \n",
      " 1   Survived     891 non-null    int64  \n",
      " 2   Pclass       891 non-null    int64  \n",
      " 3   Name         891 non-null    object \n",
      " 4   Sex          891 non-null    object \n",
      " 5   Age          714 non-null    float64\n",
      " 6   SibSp        891 non-null    int64  \n",
      " 7   Parch        891 non-null    int64  \n",
      " 8   Ticket       891 non-null    object \n",
      " 9   Fare         891 non-null    float64\n",
      " 10  Cabin        204 non-null    object \n",
      " 11  Embarked     889 non-null    object \n",
      "dtypes: float64(2), int64(5), object(5)\n",
      "memory usage: 83.7+ KB\n",
      "None\n"
     ]
    }
   ],
   "source": [
    "train_df=pd.read_csv(\"/kaggle/input/titanic/train.csv\")\n",
    "print(\"*\"*10,\"Dataset info\",\"*\" *10)\n",
    "print(train_df.info())"
   ]
  },
  {
   "cell_type": "code",
   "execution_count": 3,
   "id": "78d30bf4",
   "metadata": {
    "execution": {
     "iopub.execute_input": "2023-10-29T07:11:02.925031Z",
     "iopub.status.busy": "2023-10-29T07:11:02.923845Z",
     "iopub.status.idle": "2023-10-29T07:11:02.950284Z",
     "shell.execute_reply": "2023-10-29T07:11:02.948723Z"
    },
    "papermill": {
     "duration": 0.036796,
     "end_time": "2023-10-29T07:11:02.952831",
     "exception": false,
     "start_time": "2023-10-29T07:11:02.916035",
     "status": "completed"
    },
    "tags": []
   },
   "outputs": [
    {
     "name": "stdout",
     "output_type": "stream",
     "text": [
      "********** First five rows **********\n"
     ]
    },
    {
     "data": {
      "text/html": [
       "<div>\n",
       "<style scoped>\n",
       "    .dataframe tbody tr th:only-of-type {\n",
       "        vertical-align: middle;\n",
       "    }\n",
       "\n",
       "    .dataframe tbody tr th {\n",
       "        vertical-align: top;\n",
       "    }\n",
       "\n",
       "    .dataframe thead th {\n",
       "        text-align: right;\n",
       "    }\n",
       "</style>\n",
       "<table border=\"1\" class=\"dataframe\">\n",
       "  <thead>\n",
       "    <tr style=\"text-align: right;\">\n",
       "      <th></th>\n",
       "      <th>PassengerId</th>\n",
       "      <th>Survived</th>\n",
       "      <th>Pclass</th>\n",
       "      <th>Name</th>\n",
       "      <th>Sex</th>\n",
       "      <th>Age</th>\n",
       "      <th>SibSp</th>\n",
       "      <th>Parch</th>\n",
       "      <th>Ticket</th>\n",
       "      <th>Fare</th>\n",
       "      <th>Cabin</th>\n",
       "      <th>Embarked</th>\n",
       "    </tr>\n",
       "  </thead>\n",
       "  <tbody>\n",
       "    <tr>\n",
       "      <th>0</th>\n",
       "      <td>1</td>\n",
       "      <td>0</td>\n",
       "      <td>3</td>\n",
       "      <td>Braund, Mr. Owen Harris</td>\n",
       "      <td>male</td>\n",
       "      <td>22.0</td>\n",
       "      <td>1</td>\n",
       "      <td>0</td>\n",
       "      <td>A/5 21171</td>\n",
       "      <td>7.2500</td>\n",
       "      <td>NaN</td>\n",
       "      <td>S</td>\n",
       "    </tr>\n",
       "    <tr>\n",
       "      <th>1</th>\n",
       "      <td>2</td>\n",
       "      <td>1</td>\n",
       "      <td>1</td>\n",
       "      <td>Cumings, Mrs. John Bradley (Florence Briggs Th...</td>\n",
       "      <td>female</td>\n",
       "      <td>38.0</td>\n",
       "      <td>1</td>\n",
       "      <td>0</td>\n",
       "      <td>PC 17599</td>\n",
       "      <td>71.2833</td>\n",
       "      <td>C85</td>\n",
       "      <td>C</td>\n",
       "    </tr>\n",
       "    <tr>\n",
       "      <th>2</th>\n",
       "      <td>3</td>\n",
       "      <td>1</td>\n",
       "      <td>3</td>\n",
       "      <td>Heikkinen, Miss. Laina</td>\n",
       "      <td>female</td>\n",
       "      <td>26.0</td>\n",
       "      <td>0</td>\n",
       "      <td>0</td>\n",
       "      <td>STON/O2. 3101282</td>\n",
       "      <td>7.9250</td>\n",
       "      <td>NaN</td>\n",
       "      <td>S</td>\n",
       "    </tr>\n",
       "    <tr>\n",
       "      <th>3</th>\n",
       "      <td>4</td>\n",
       "      <td>1</td>\n",
       "      <td>1</td>\n",
       "      <td>Futrelle, Mrs. Jacques Heath (Lily May Peel)</td>\n",
       "      <td>female</td>\n",
       "      <td>35.0</td>\n",
       "      <td>1</td>\n",
       "      <td>0</td>\n",
       "      <td>113803</td>\n",
       "      <td>53.1000</td>\n",
       "      <td>C123</td>\n",
       "      <td>S</td>\n",
       "    </tr>\n",
       "    <tr>\n",
       "      <th>4</th>\n",
       "      <td>5</td>\n",
       "      <td>0</td>\n",
       "      <td>3</td>\n",
       "      <td>Allen, Mr. William Henry</td>\n",
       "      <td>male</td>\n",
       "      <td>35.0</td>\n",
       "      <td>0</td>\n",
       "      <td>0</td>\n",
       "      <td>373450</td>\n",
       "      <td>8.0500</td>\n",
       "      <td>NaN</td>\n",
       "      <td>S</td>\n",
       "    </tr>\n",
       "  </tbody>\n",
       "</table>\n",
       "</div>"
      ],
      "text/plain": [
       "   PassengerId  Survived  Pclass  \\\n",
       "0            1         0       3   \n",
       "1            2         1       1   \n",
       "2            3         1       3   \n",
       "3            4         1       1   \n",
       "4            5         0       3   \n",
       "\n",
       "                                                Name     Sex   Age  SibSp  \\\n",
       "0                            Braund, Mr. Owen Harris    male  22.0      1   \n",
       "1  Cumings, Mrs. John Bradley (Florence Briggs Th...  female  38.0      1   \n",
       "2                             Heikkinen, Miss. Laina  female  26.0      0   \n",
       "3       Futrelle, Mrs. Jacques Heath (Lily May Peel)  female  35.0      1   \n",
       "4                           Allen, Mr. William Henry    male  35.0      0   \n",
       "\n",
       "   Parch            Ticket     Fare Cabin Embarked  \n",
       "0      0         A/5 21171   7.2500   NaN        S  \n",
       "1      0          PC 17599  71.2833   C85        C  \n",
       "2      0  STON/O2. 3101282   7.9250   NaN        S  \n",
       "3      0            113803  53.1000  C123        S  \n",
       "4      0            373450   8.0500   NaN        S  "
      ]
     },
     "execution_count": 3,
     "metadata": {},
     "output_type": "execute_result"
    }
   ],
   "source": [
    "print(\"*\"*10,\"First five rows\",\"*\" *10)\n",
    "train_df.head(5)"
   ]
  },
  {
   "cell_type": "code",
   "execution_count": 4,
   "id": "53173c34",
   "metadata": {
    "execution": {
     "iopub.execute_input": "2023-10-29T07:11:02.967431Z",
     "iopub.status.busy": "2023-10-29T07:11:02.967107Z",
     "iopub.status.idle": "2023-10-29T07:11:02.988633Z",
     "shell.execute_reply": "2023-10-29T07:11:02.986858Z"
    },
    "papermill": {
     "duration": 0.031368,
     "end_time": "2023-10-29T07:11:02.990853",
     "exception": false,
     "start_time": "2023-10-29T07:11:02.959485",
     "status": "completed"
    },
    "tags": []
   },
   "outputs": [
    {
     "name": "stdout",
     "output_type": "stream",
     "text": [
      "********** Dataset info **********\n",
      "<class 'pandas.core.frame.DataFrame'>\n",
      "RangeIndex: 418 entries, 0 to 417\n",
      "Data columns (total 11 columns):\n",
      " #   Column       Non-Null Count  Dtype  \n",
      "---  ------       --------------  -----  \n",
      " 0   PassengerId  418 non-null    int64  \n",
      " 1   Pclass       418 non-null    int64  \n",
      " 2   Name         418 non-null    object \n",
      " 3   Sex          418 non-null    object \n",
      " 4   Age          332 non-null    float64\n",
      " 5   SibSp        418 non-null    int64  \n",
      " 6   Parch        418 non-null    int64  \n",
      " 7   Ticket       418 non-null    object \n",
      " 8   Fare         417 non-null    float64\n",
      " 9   Cabin        91 non-null     object \n",
      " 10  Embarked     418 non-null    object \n",
      "dtypes: float64(2), int64(4), object(5)\n",
      "memory usage: 36.0+ KB\n",
      "None\n"
     ]
    }
   ],
   "source": [
    "test_df=pd.read_csv(\"/kaggle/input/titanic/test.csv\")\n",
    "print(\"*\"*10,\"Dataset info\",\"*\" *10)\n",
    "print(test_df.info())"
   ]
  },
  {
   "cell_type": "code",
   "execution_count": 5,
   "id": "553e1885",
   "metadata": {
    "execution": {
     "iopub.execute_input": "2023-10-29T07:11:03.006853Z",
     "iopub.status.busy": "2023-10-29T07:11:03.005455Z",
     "iopub.status.idle": "2023-10-29T07:11:03.016511Z",
     "shell.execute_reply": "2023-10-29T07:11:03.015245Z"
    },
    "papermill": {
     "duration": 0.021296,
     "end_time": "2023-10-29T07:11:03.018868",
     "exception": false,
     "start_time": "2023-10-29T07:11:02.997572",
     "status": "completed"
    },
    "tags": []
   },
   "outputs": [
    {
     "data": {
      "text/plain": [
       "Cabin\n",
       "B96 B98        4\n",
       "G6             4\n",
       "C23 C25 C27    4\n",
       "C22 C26        3\n",
       "F33            3\n",
       "              ..\n",
       "E34            1\n",
       "C7             1\n",
       "C54            1\n",
       "E36            1\n",
       "C148           1\n",
       "Name: count, Length: 147, dtype: int64"
      ]
     },
     "execution_count": 5,
     "metadata": {},
     "output_type": "execute_result"
    }
   ],
   "source": [
    "train_df.Cabin.value_counts()"
   ]
  },
  {
   "cell_type": "code",
   "execution_count": 6,
   "id": "e259b59d",
   "metadata": {
    "execution": {
     "iopub.execute_input": "2023-10-29T07:11:03.034926Z",
     "iopub.status.busy": "2023-10-29T07:11:03.034357Z",
     "iopub.status.idle": "2023-10-29T07:11:03.045720Z",
     "shell.execute_reply": "2023-10-29T07:11:03.044716Z"
    },
    "papermill": {
     "duration": 0.021898,
     "end_time": "2023-10-29T07:11:03.047932",
     "exception": false,
     "start_time": "2023-10-29T07:11:03.026034",
     "status": "completed"
    },
    "tags": []
   },
   "outputs": [],
   "source": [
    "# Assuming train_df and test_df are valid DataFrames with the columns you want to drop\n",
    "train_df.drop(['Name', 'Ticket', 'Cabin'], inplace=True, axis=1)\n",
    "test_df.drop(['Name', 'Ticket', 'Cabin'],  inplace=True, axis=1)\n"
   ]
  },
  {
   "cell_type": "code",
   "execution_count": 7,
   "id": "54481478",
   "metadata": {
    "execution": {
     "iopub.execute_input": "2023-10-29T07:11:03.064028Z",
     "iopub.status.busy": "2023-10-29T07:11:03.063640Z",
     "iopub.status.idle": "2023-10-29T07:11:03.080363Z",
     "shell.execute_reply": "2023-10-29T07:11:03.078252Z"
    },
    "papermill": {
     "duration": 0.028769,
     "end_time": "2023-10-29T07:11:03.083575",
     "exception": false,
     "start_time": "2023-10-29T07:11:03.054806",
     "status": "completed"
    },
    "tags": []
   },
   "outputs": [
    {
     "name": "stdout",
     "output_type": "stream",
     "text": [
      "<class 'pandas.core.frame.DataFrame'>\n",
      "RangeIndex: 891 entries, 0 to 890\n",
      "Data columns (total 9 columns):\n",
      " #   Column       Non-Null Count  Dtype  \n",
      "---  ------       --------------  -----  \n",
      " 0   PassengerId  891 non-null    int64  \n",
      " 1   Survived     891 non-null    int64  \n",
      " 2   Pclass       891 non-null    int64  \n",
      " 3   Sex          891 non-null    object \n",
      " 4   Age          714 non-null    float64\n",
      " 5   SibSp        891 non-null    int64  \n",
      " 6   Parch        891 non-null    int64  \n",
      " 7   Fare         891 non-null    float64\n",
      " 8   Embarked     889 non-null    object \n",
      "dtypes: float64(2), int64(5), object(2)\n",
      "memory usage: 62.8+ KB\n",
      "<class 'pandas.core.frame.DataFrame'>\n",
      "RangeIndex: 418 entries, 0 to 417\n",
      "Data columns (total 8 columns):\n",
      " #   Column       Non-Null Count  Dtype  \n",
      "---  ------       --------------  -----  \n",
      " 0   PassengerId  418 non-null    int64  \n",
      " 1   Pclass       418 non-null    int64  \n",
      " 2   Sex          418 non-null    object \n",
      " 3   Age          332 non-null    float64\n",
      " 4   SibSp        418 non-null    int64  \n",
      " 5   Parch        418 non-null    int64  \n",
      " 6   Fare         417 non-null    float64\n",
      " 7   Embarked     418 non-null    object \n",
      "dtypes: float64(2), int64(4), object(2)\n",
      "memory usage: 26.2+ KB\n",
      "None None\n"
     ]
    }
   ],
   "source": [
    "print(train_df.info(),test_df.info())"
   ]
  },
  {
   "cell_type": "code",
   "execution_count": 8,
   "id": "cfe4f0de",
   "metadata": {
    "execution": {
     "iopub.execute_input": "2023-10-29T07:11:03.100490Z",
     "iopub.status.busy": "2023-10-29T07:11:03.100121Z",
     "iopub.status.idle": "2023-10-29T07:11:03.109153Z",
     "shell.execute_reply": "2023-10-29T07:11:03.107892Z"
    },
    "papermill": {
     "duration": 0.020655,
     "end_time": "2023-10-29T07:11:03.112109",
     "exception": false,
     "start_time": "2023-10-29T07:11:03.091454",
     "status": "completed"
    },
    "tags": []
   },
   "outputs": [
    {
     "data": {
      "text/plain": [
       "PassengerId      0\n",
       "Survived         0\n",
       "Pclass           0\n",
       "Sex              0\n",
       "Age            177\n",
       "SibSp            0\n",
       "Parch            0\n",
       "Fare             0\n",
       "Embarked         2\n",
       "dtype: int64"
      ]
     },
     "execution_count": 8,
     "metadata": {},
     "output_type": "execute_result"
    }
   ],
   "source": [
    "train_df.isnull().sum()"
   ]
  },
  {
   "cell_type": "code",
   "execution_count": 9,
   "id": "9b3a1c8a",
   "metadata": {
    "execution": {
     "iopub.execute_input": "2023-10-29T07:11:03.128152Z",
     "iopub.status.busy": "2023-10-29T07:11:03.127798Z",
     "iopub.status.idle": "2023-10-29T07:11:03.136809Z",
     "shell.execute_reply": "2023-10-29T07:11:03.135729Z"
    },
    "papermill": {
     "duration": 0.019213,
     "end_time": "2023-10-29T07:11:03.138777",
     "exception": false,
     "start_time": "2023-10-29T07:11:03.119564",
     "status": "completed"
    },
    "tags": []
   },
   "outputs": [
    {
     "data": {
      "text/plain": [
       "PassengerId     0\n",
       "Pclass          0\n",
       "Sex             0\n",
       "Age            86\n",
       "SibSp           0\n",
       "Parch           0\n",
       "Fare            1\n",
       "Embarked        0\n",
       "dtype: int64"
      ]
     },
     "execution_count": 9,
     "metadata": {},
     "output_type": "execute_result"
    }
   ],
   "source": [
    "test_df.isnull().sum()"
   ]
  },
  {
   "cell_type": "code",
   "execution_count": 10,
   "id": "7ea36a47",
   "metadata": {
    "execution": {
     "iopub.execute_input": "2023-10-29T07:11:03.155014Z",
     "iopub.status.busy": "2023-10-29T07:11:03.154611Z",
     "iopub.status.idle": "2023-10-29T07:11:03.163463Z",
     "shell.execute_reply": "2023-10-29T07:11:03.162170Z"
    },
    "papermill": {
     "duration": 0.020207,
     "end_time": "2023-10-29T07:11:03.166237",
     "exception": false,
     "start_time": "2023-10-29T07:11:03.146030",
     "status": "completed"
    },
    "tags": []
   },
   "outputs": [
    {
     "data": {
      "text/plain": [
       "Embarked\n",
       "S    644\n",
       "C    168\n",
       "Q     77\n",
       "Name: count, dtype: int64"
      ]
     },
     "execution_count": 10,
     "metadata": {},
     "output_type": "execute_result"
    }
   ],
   "source": [
    "train_df.Embarked.value_counts()"
   ]
  },
  {
   "cell_type": "code",
   "execution_count": 11,
   "id": "53057b6c",
   "metadata": {
    "execution": {
     "iopub.execute_input": "2023-10-29T07:11:03.182949Z",
     "iopub.status.busy": "2023-10-29T07:11:03.182539Z",
     "iopub.status.idle": "2023-10-29T07:11:03.189147Z",
     "shell.execute_reply": "2023-10-29T07:11:03.188111Z"
    },
    "papermill": {
     "duration": 0.01772,
     "end_time": "2023-10-29T07:11:03.191351",
     "exception": false,
     "start_time": "2023-10-29T07:11:03.173631",
     "status": "completed"
    },
    "tags": []
   },
   "outputs": [],
   "source": [
    "#fixing null value\n",
    "dataset=[train_df,test_df]\n",
    "\n",
    "for data in dataset:\n",
    "    data.Embarked=data.Embarked.fillna('S')"
   ]
  },
  {
   "cell_type": "code",
   "execution_count": 12,
   "id": "101def81",
   "metadata": {
    "execution": {
     "iopub.execute_input": "2023-10-29T07:11:03.207774Z",
     "iopub.status.busy": "2023-10-29T07:11:03.207384Z",
     "iopub.status.idle": "2023-10-29T07:11:03.217795Z",
     "shell.execute_reply": "2023-10-29T07:11:03.216309Z"
    },
    "papermill": {
     "duration": 0.021827,
     "end_time": "2023-10-29T07:11:03.220661",
     "exception": false,
     "start_time": "2023-10-29T07:11:03.198834",
     "status": "completed"
    },
    "tags": []
   },
   "outputs": [
    {
     "data": {
      "text/plain": [
       "Fare\n",
       "8.0500     43\n",
       "13.0000    42\n",
       "7.8958     38\n",
       "7.7500     34\n",
       "26.0000    31\n",
       "           ..\n",
       "35.0000     1\n",
       "28.5000     1\n",
       "6.2375      1\n",
       "14.0000     1\n",
       "10.5167     1\n",
       "Name: count, Length: 248, dtype: int64"
      ]
     },
     "execution_count": 12,
     "metadata": {},
     "output_type": "execute_result"
    }
   ],
   "source": [
    "train_df.Fare.value_counts()"
   ]
  },
  {
   "cell_type": "code",
   "execution_count": 13,
   "id": "ba4b8c52",
   "metadata": {
    "execution": {
     "iopub.execute_input": "2023-10-29T07:11:03.237280Z",
     "iopub.status.busy": "2023-10-29T07:11:03.236934Z",
     "iopub.status.idle": "2023-10-29T07:11:03.247448Z",
     "shell.execute_reply": "2023-10-29T07:11:03.246473Z"
    },
    "papermill": {
     "duration": 0.021195,
     "end_time": "2023-10-29T07:11:03.249362",
     "exception": false,
     "start_time": "2023-10-29T07:11:03.228167",
     "status": "completed"
    },
    "tags": []
   },
   "outputs": [
    {
     "data": {
      "text/plain": [
       "Age\n",
       "24.00    30\n",
       "22.00    27\n",
       "18.00    26\n",
       "19.00    25\n",
       "28.00    25\n",
       "         ..\n",
       "36.50     1\n",
       "55.50     1\n",
       "0.92      1\n",
       "23.50     1\n",
       "74.00     1\n",
       "Name: count, Length: 88, dtype: int64"
      ]
     },
     "execution_count": 13,
     "metadata": {},
     "output_type": "execute_result"
    }
   ],
   "source": [
    "train_df.Age.value_counts()"
   ]
  },
  {
   "cell_type": "code",
   "execution_count": 14,
   "id": "b4d7685e",
   "metadata": {
    "execution": {
     "iopub.execute_input": "2023-10-29T07:11:03.266047Z",
     "iopub.status.busy": "2023-10-29T07:11:03.265673Z",
     "iopub.status.idle": "2023-10-29T07:11:03.271864Z",
     "shell.execute_reply": "2023-10-29T07:11:03.270964Z"
    },
    "papermill": {
     "duration": 0.017468,
     "end_time": "2023-10-29T07:11:03.274398",
     "exception": false,
     "start_time": "2023-10-29T07:11:03.256930",
     "status": "completed"
    },
    "tags": []
   },
   "outputs": [],
   "source": [
    "#age ,fare null values\n",
    "data=[train_df,test_df]\n",
    "\n",
    "for dataset in data:\n",
    "    dataset.Fare=dataset.Fare.fillna(dataset.Fare.mean())\n",
    "    dataset.Age=dataset.Fare.fillna(dataset.Age.mean())\n",
    "    "
   ]
  },
  {
   "cell_type": "code",
   "execution_count": 15,
   "id": "e0c91f6a",
   "metadata": {
    "execution": {
     "iopub.execute_input": "2023-10-29T07:11:03.291045Z",
     "iopub.status.busy": "2023-10-29T07:11:03.290721Z",
     "iopub.status.idle": "2023-10-29T07:11:03.299372Z",
     "shell.execute_reply": "2023-10-29T07:11:03.298174Z"
    },
    "papermill": {
     "duration": 0.019396,
     "end_time": "2023-10-29T07:11:03.301551",
     "exception": false,
     "start_time": "2023-10-29T07:11:03.282155",
     "status": "completed"
    },
    "tags": []
   },
   "outputs": [
    {
     "data": {
      "text/plain": [
       "PassengerId    0\n",
       "Survived       0\n",
       "Pclass         0\n",
       "Sex            0\n",
       "Age            0\n",
       "SibSp          0\n",
       "Parch          0\n",
       "Fare           0\n",
       "Embarked       0\n",
       "dtype: int64"
      ]
     },
     "execution_count": 15,
     "metadata": {},
     "output_type": "execute_result"
    }
   ],
   "source": [
    "train_df.isnull().sum()"
   ]
  },
  {
   "cell_type": "code",
   "execution_count": 16,
   "id": "bb76842e",
   "metadata": {
    "execution": {
     "iopub.execute_input": "2023-10-29T07:11:03.318049Z",
     "iopub.status.busy": "2023-10-29T07:11:03.317726Z",
     "iopub.status.idle": "2023-10-29T07:11:03.335919Z",
     "shell.execute_reply": "2023-10-29T07:11:03.334654Z"
    },
    "papermill": {
     "duration": 0.029688,
     "end_time": "2023-10-29T07:11:03.338793",
     "exception": false,
     "start_time": "2023-10-29T07:11:03.309105",
     "status": "completed"
    },
    "tags": []
   },
   "outputs": [
    {
     "name": "stdout",
     "output_type": "stream",
     "text": [
      "<class 'pandas.core.frame.DataFrame'>\n",
      "RangeIndex: 891 entries, 0 to 890\n",
      "Data columns (total 9 columns):\n",
      " #   Column       Non-Null Count  Dtype  \n",
      "---  ------       --------------  -----  \n",
      " 0   PassengerId  891 non-null    int64  \n",
      " 1   Survived     891 non-null    int64  \n",
      " 2   Pclass       891 non-null    int64  \n",
      " 3   Sex          891 non-null    object \n",
      " 4   Age          891 non-null    float64\n",
      " 5   SibSp        891 non-null    int64  \n",
      " 6   Parch        891 non-null    int64  \n",
      " 7   Fare         891 non-null    float64\n",
      " 8   Embarked     891 non-null    object \n",
      "dtypes: float64(2), int64(5), object(2)\n",
      "memory usage: 62.8+ KB\n",
      "<class 'pandas.core.frame.DataFrame'>\n",
      "RangeIndex: 418 entries, 0 to 417\n",
      "Data columns (total 8 columns):\n",
      " #   Column       Non-Null Count  Dtype  \n",
      "---  ------       --------------  -----  \n",
      " 0   PassengerId  418 non-null    int64  \n",
      " 1   Pclass       418 non-null    int64  \n",
      " 2   Sex          418 non-null    object \n",
      " 3   Age          418 non-null    float64\n",
      " 4   SibSp        418 non-null    int64  \n",
      " 5   Parch        418 non-null    int64  \n",
      " 6   Fare         418 non-null    float64\n",
      " 7   Embarked     418 non-null    object \n",
      "dtypes: float64(2), int64(4), object(2)\n",
      "memory usage: 26.2+ KB\n",
      "None None\n"
     ]
    }
   ],
   "source": [
    "print(train_df.info(),test_df.info())"
   ]
  },
  {
   "cell_type": "code",
   "execution_count": 17,
   "id": "a1045261",
   "metadata": {
    "execution": {
     "iopub.execute_input": "2023-10-29T07:11:03.357511Z",
     "iopub.status.busy": "2023-10-29T07:11:03.356526Z",
     "iopub.status.idle": "2023-10-29T07:11:03.364610Z",
     "shell.execute_reply": "2023-10-29T07:11:03.363732Z"
    },
    "papermill": {
     "duration": 0.019551,
     "end_time": "2023-10-29T07:11:03.366343",
     "exception": false,
     "start_time": "2023-10-29T07:11:03.346792",
     "status": "completed"
    },
    "tags": []
   },
   "outputs": [
    {
     "data": {
      "text/plain": [
       "Age\n",
       "8.0500     43\n",
       "13.0000    42\n",
       "7.8958     38\n",
       "7.7500     34\n",
       "26.0000    31\n",
       "           ..\n",
       "35.0000     1\n",
       "28.5000     1\n",
       "6.2375      1\n",
       "14.0000     1\n",
       "10.5167     1\n",
       "Name: count, Length: 248, dtype: int64"
      ]
     },
     "execution_count": 17,
     "metadata": {},
     "output_type": "execute_result"
    }
   ],
   "source": [
    "train_df.Age.value_counts()"
   ]
  },
  {
   "cell_type": "code",
   "execution_count": 18,
   "id": "029bb9a4",
   "metadata": {
    "execution": {
     "iopub.execute_input": "2023-10-29T07:11:03.384086Z",
     "iopub.status.busy": "2023-10-29T07:11:03.383669Z",
     "iopub.status.idle": "2023-10-29T07:11:03.404963Z",
     "shell.execute_reply": "2023-10-29T07:11:03.403379Z"
    },
    "papermill": {
     "duration": 0.033065,
     "end_time": "2023-10-29T07:11:03.407790",
     "exception": false,
     "start_time": "2023-10-29T07:11:03.374725",
     "status": "completed"
    },
    "tags": []
   },
   "outputs": [
    {
     "data": {
      "text/html": [
       "<div>\n",
       "<style scoped>\n",
       "    .dataframe tbody tr th:only-of-type {\n",
       "        vertical-align: middle;\n",
       "    }\n",
       "\n",
       "    .dataframe tbody tr th {\n",
       "        vertical-align: top;\n",
       "    }\n",
       "\n",
       "    .dataframe thead th {\n",
       "        text-align: right;\n",
       "    }\n",
       "</style>\n",
       "<table border=\"1\" class=\"dataframe\">\n",
       "  <thead>\n",
       "    <tr style=\"text-align: right;\">\n",
       "      <th></th>\n",
       "      <th>Age</th>\n",
       "      <th>Survived</th>\n",
       "    </tr>\n",
       "  </thead>\n",
       "  <tbody>\n",
       "    <tr>\n",
       "      <th>247</th>\n",
       "      <td>512.3292</td>\n",
       "      <td>1.0</td>\n",
       "    </tr>\n",
       "    <tr>\n",
       "      <th>196</th>\n",
       "      <td>57.9792</td>\n",
       "      <td>1.0</td>\n",
       "    </tr>\n",
       "    <tr>\n",
       "      <th>89</th>\n",
       "      <td>13.8583</td>\n",
       "      <td>1.0</td>\n",
       "    </tr>\n",
       "    <tr>\n",
       "      <th>88</th>\n",
       "      <td>13.7917</td>\n",
       "      <td>1.0</td>\n",
       "    </tr>\n",
       "    <tr>\n",
       "      <th>86</th>\n",
       "      <td>13.4167</td>\n",
       "      <td>1.0</td>\n",
       "    </tr>\n",
       "    <tr>\n",
       "      <th>...</th>\n",
       "      <td>...</td>\n",
       "      <td>...</td>\n",
       "    </tr>\n",
       "    <tr>\n",
       "      <th>103</th>\n",
       "      <td>15.5500</td>\n",
       "      <td>0.0</td>\n",
       "    </tr>\n",
       "    <tr>\n",
       "      <th>180</th>\n",
       "      <td>47.1000</td>\n",
       "      <td>0.0</td>\n",
       "    </tr>\n",
       "    <tr>\n",
       "      <th>179</th>\n",
       "      <td>46.9000</td>\n",
       "      <td>0.0</td>\n",
       "    </tr>\n",
       "    <tr>\n",
       "      <th>178</th>\n",
       "      <td>42.4000</td>\n",
       "      <td>0.0</td>\n",
       "    </tr>\n",
       "    <tr>\n",
       "      <th>124</th>\n",
       "      <td>21.0750</td>\n",
       "      <td>0.0</td>\n",
       "    </tr>\n",
       "  </tbody>\n",
       "</table>\n",
       "<p>248 rows × 2 columns</p>\n",
       "</div>"
      ],
      "text/plain": [
       "          Age  Survived\n",
       "247  512.3292       1.0\n",
       "196   57.9792       1.0\n",
       "89    13.8583       1.0\n",
       "88    13.7917       1.0\n",
       "86    13.4167       1.0\n",
       "..        ...       ...\n",
       "103   15.5500       0.0\n",
       "180   47.1000       0.0\n",
       "179   46.9000       0.0\n",
       "178   42.4000       0.0\n",
       "124   21.0750       0.0\n",
       "\n",
       "[248 rows x 2 columns]"
      ]
     },
     "execution_count": 18,
     "metadata": {},
     "output_type": "execute_result"
    }
   ],
   "source": [
    "train_df[['Age','Survived']].groupby(['Age'],as_index=False).mean().sort_values(by=\"Survived\",ascending=False)"
   ]
  },
  {
   "cell_type": "code",
   "execution_count": 19,
   "id": "369575c1",
   "metadata": {
    "execution": {
     "iopub.execute_input": "2023-10-29T07:11:03.425490Z",
     "iopub.status.busy": "2023-10-29T07:11:03.425157Z",
     "iopub.status.idle": "2023-10-29T07:11:03.433922Z",
     "shell.execute_reply": "2023-10-29T07:11:03.432882Z"
    },
    "papermill": {
     "duration": 0.020461,
     "end_time": "2023-10-29T07:11:03.436306",
     "exception": false,
     "start_time": "2023-10-29T07:11:03.415845",
     "status": "completed"
    },
    "tags": []
   },
   "outputs": [
    {
     "data": {
      "text/plain": [
       "Sex\n",
       "male      577\n",
       "female    314\n",
       "Name: count, dtype: int64"
      ]
     },
     "execution_count": 19,
     "metadata": {},
     "output_type": "execute_result"
    }
   ],
   "source": [
    "train_df['Sex'].value_counts()"
   ]
  },
  {
   "cell_type": "code",
   "execution_count": 20,
   "id": "1f929c28",
   "metadata": {
    "execution": {
     "iopub.execute_input": "2023-10-29T07:11:03.454110Z",
     "iopub.status.busy": "2023-10-29T07:11:03.453790Z",
     "iopub.status.idle": "2023-10-29T07:11:03.461676Z",
     "shell.execute_reply": "2023-10-29T07:11:03.460661Z"
    },
    "papermill": {
     "duration": 0.019321,
     "end_time": "2023-10-29T07:11:03.463637",
     "exception": false,
     "start_time": "2023-10-29T07:11:03.444316",
     "status": "completed"
    },
    "tags": []
   },
   "outputs": [],
   "source": [
    "genderMap = {\"male\":0,\"female\":1}\n",
    "data = [train_df,test_df]\n",
    "\n",
    "for dataset in data:\n",
    "    dataset['Sex'] = dataset['Sex'].map(genderMap)"
   ]
  },
  {
   "cell_type": "code",
   "execution_count": 21,
   "id": "6e4cf5fb",
   "metadata": {
    "execution": {
     "iopub.execute_input": "2023-10-29T07:11:03.481085Z",
     "iopub.status.busy": "2023-10-29T07:11:03.480719Z",
     "iopub.status.idle": "2023-10-29T07:11:03.488386Z",
     "shell.execute_reply": "2023-10-29T07:11:03.487360Z"
    },
    "papermill": {
     "duration": 0.019068,
     "end_time": "2023-10-29T07:11:03.490739",
     "exception": false,
     "start_time": "2023-10-29T07:11:03.471671",
     "status": "completed"
    },
    "tags": []
   },
   "outputs": [
    {
     "data": {
      "text/plain": [
       "Embarked\n",
       "S    646\n",
       "C    168\n",
       "Q     77\n",
       "Name: count, dtype: int64"
      ]
     },
     "execution_count": 21,
     "metadata": {},
     "output_type": "execute_result"
    }
   ],
   "source": [
    "train_df['Embarked'].value_counts()"
   ]
  },
  {
   "cell_type": "code",
   "execution_count": 22,
   "id": "d941f83e",
   "metadata": {
    "execution": {
     "iopub.execute_input": "2023-10-29T07:11:03.508516Z",
     "iopub.status.busy": "2023-10-29T07:11:03.508191Z",
     "iopub.status.idle": "2023-10-29T07:11:03.514338Z",
     "shell.execute_reply": "2023-10-29T07:11:03.513215Z"
    },
    "papermill": {
     "duration": 0.017171,
     "end_time": "2023-10-29T07:11:03.516119",
     "exception": false,
     "start_time": "2023-10-29T07:11:03.498948",
     "status": "completed"
    },
    "tags": []
   },
   "outputs": [],
   "source": [
    "embarkedMap = {\"S\": 0, \"C\": 1, \"Q\": 2}\n",
    "data = [train_df, test_df]\n",
    "\n",
    "for dataset in data:\n",
    "    dataset['Embarked'] = dataset['Embarked'].map(embarkedMap)\n"
   ]
  },
  {
   "cell_type": "code",
   "execution_count": 23,
   "id": "35bf7c49",
   "metadata": {
    "execution": {
     "iopub.execute_input": "2023-10-29T07:11:03.534903Z",
     "iopub.status.busy": "2023-10-29T07:11:03.533293Z",
     "iopub.status.idle": "2023-10-29T07:11:03.552052Z",
     "shell.execute_reply": "2023-10-29T07:11:03.550516Z"
    },
    "papermill": {
     "duration": 0.030232,
     "end_time": "2023-10-29T07:11:03.554494",
     "exception": false,
     "start_time": "2023-10-29T07:11:03.524262",
     "status": "completed"
    },
    "tags": []
   },
   "outputs": [
    {
     "name": "stdout",
     "output_type": "stream",
     "text": [
      "<class 'pandas.core.frame.DataFrame'>\n",
      "RangeIndex: 891 entries, 0 to 890\n",
      "Data columns (total 9 columns):\n",
      " #   Column       Non-Null Count  Dtype  \n",
      "---  ------       --------------  -----  \n",
      " 0   PassengerId  891 non-null    int64  \n",
      " 1   Survived     891 non-null    int64  \n",
      " 2   Pclass       891 non-null    int64  \n",
      " 3   Sex          891 non-null    int64  \n",
      " 4   Age          891 non-null    float64\n",
      " 5   SibSp        891 non-null    int64  \n",
      " 6   Parch        891 non-null    int64  \n",
      " 7   Fare         891 non-null    float64\n",
      " 8   Embarked     891 non-null    int64  \n",
      "dtypes: float64(2), int64(7)\n",
      "memory usage: 62.8 KB\n",
      "<class 'pandas.core.frame.DataFrame'>\n",
      "RangeIndex: 418 entries, 0 to 417\n",
      "Data columns (total 8 columns):\n",
      " #   Column       Non-Null Count  Dtype  \n",
      "---  ------       --------------  -----  \n",
      " 0   PassengerId  418 non-null    int64  \n",
      " 1   Pclass       418 non-null    int64  \n",
      " 2   Sex          418 non-null    int64  \n",
      " 3   Age          418 non-null    float64\n",
      " 4   SibSp        418 non-null    int64  \n",
      " 5   Parch        418 non-null    int64  \n",
      " 6   Fare         418 non-null    float64\n",
      " 7   Embarked     418 non-null    int64  \n",
      "dtypes: float64(2), int64(6)\n",
      "memory usage: 26.2 KB\n",
      "None None\n"
     ]
    }
   ],
   "source": [
    "print(train_df.info(),test_df.info())"
   ]
  },
  {
   "cell_type": "code",
   "execution_count": 24,
   "id": "e41e74f6",
   "metadata": {
    "execution": {
     "iopub.execute_input": "2023-10-29T07:11:03.573926Z",
     "iopub.status.busy": "2023-10-29T07:11:03.573531Z",
     "iopub.status.idle": "2023-10-29T07:11:03.580552Z",
     "shell.execute_reply": "2023-10-29T07:11:03.578559Z"
    },
    "papermill": {
     "duration": 0.019536,
     "end_time": "2023-10-29T07:11:03.583177",
     "exception": false,
     "start_time": "2023-10-29T07:11:03.563641",
     "status": "completed"
    },
    "tags": []
   },
   "outputs": [],
   "source": [
    "x_train=train_df.drop(['Survived','PassengerId'],axis=1)\n",
    "y_train=train_df['Survived']"
   ]
  },
  {
   "cell_type": "code",
   "execution_count": 25,
   "id": "f52b4a1a",
   "metadata": {
    "execution": {
     "iopub.execute_input": "2023-10-29T07:11:03.601521Z",
     "iopub.status.busy": "2023-10-29T07:11:03.601109Z",
     "iopub.status.idle": "2023-10-29T07:11:03.607321Z",
     "shell.execute_reply": "2023-10-29T07:11:03.606053Z"
    },
    "papermill": {
     "duration": 0.017634,
     "end_time": "2023-10-29T07:11:03.609117",
     "exception": false,
     "start_time": "2023-10-29T07:11:03.591483",
     "status": "completed"
    },
    "tags": []
   },
   "outputs": [],
   "source": [
    "x_test=test_df.drop(\"PassengerId\",axis=1)"
   ]
  },
  {
   "cell_type": "code",
   "execution_count": 26,
   "id": "93f9b158",
   "metadata": {
    "execution": {
     "iopub.execute_input": "2023-10-29T07:11:03.626630Z",
     "iopub.status.busy": "2023-10-29T07:11:03.626264Z",
     "iopub.status.idle": "2023-10-29T07:11:05.287475Z",
     "shell.execute_reply": "2023-10-29T07:11:05.286134Z"
    },
    "papermill": {
     "duration": 1.672601,
     "end_time": "2023-10-29T07:11:05.289794",
     "exception": false,
     "start_time": "2023-10-29T07:11:03.617193",
     "status": "completed"
    },
    "tags": []
   },
   "outputs": [],
   "source": [
    "from sklearn.linear_model import LogisticRegression\n",
    "clf = LogisticRegression(random_state=0)\n",
    "clf.fit(x_train,y_train)\n",
    "y_pred=clf.predict(x_test)"
   ]
  },
  {
   "cell_type": "code",
   "execution_count": 27,
   "id": "4f7f0ff6",
   "metadata": {
    "execution": {
     "iopub.execute_input": "2023-10-29T07:11:05.308964Z",
     "iopub.status.busy": "2023-10-29T07:11:05.308594Z",
     "iopub.status.idle": "2023-10-29T07:11:05.314371Z",
     "shell.execute_reply": "2023-10-29T07:11:05.313231Z"
    },
    "papermill": {
     "duration": 0.018251,
     "end_time": "2023-10-29T07:11:05.316399",
     "exception": false,
     "start_time": "2023-10-29T07:11:05.298148",
     "status": "completed"
    },
    "tags": []
   },
   "outputs": [
    {
     "name": "stdout",
     "output_type": "stream",
     "text": [
      "[0 1 0 0 1 0 1 0 1 0 0 0 1 0 1 1 0 0 1 1 0 0 1 0 1 0 1 0 0 0 0 0 1 1 0 0 1\n",
      " 1 0 0 0 0 0 1 1 0 0 0 1 1 0 0 1 1 0 0 0 0 0 1 0 0 0 1 0 1 1 0 0 1 1 0 1 0\n",
      " 1 1 0 1 0 1 0 0 0 0 0 0 1 1 1 0 1 0 1 0 0 0 1 0 1 0 1 0 0 0 1 0 0 0 0 0 0\n",
      " 1 1 1 1 0 0 1 0 1 1 0 1 0 0 1 0 1 0 0 0 0 1 0 0 0 0 0 1 0 0 1 1 0 0 0 0 0\n",
      " 0 0 1 0 0 1 0 0 1 1 0 1 1 0 1 0 0 1 0 0 1 1 0 0 0 0 0 1 1 0 1 1 0 0 1 0 1\n",
      " 0 1 0 0 0 0 0 0 0 0 0 1 1 0 1 1 0 1 1 0 0 1 0 1 0 0 0 0 1 0 0 1 0 1 0 1 0\n",
      " 1 0 1 1 0 1 0 0 0 1 0 0 0 0 0 0 1 1 1 1 0 0 0 0 1 0 1 1 1 0 0 0 0 0 0 0 1\n",
      " 0 0 0 1 1 0 0 0 0 1 0 0 0 1 1 0 1 0 0 0 0 1 0 1 1 1 0 0 0 0 0 0 1 0 0 0 0\n",
      " 1 0 0 0 0 0 0 0 1 1 0 0 0 1 0 0 0 1 1 1 0 0 0 0 0 0 0 0 1 0 1 0 0 0 1 0 0\n",
      " 1 0 0 0 0 0 0 0 0 0 1 0 1 0 1 0 1 1 0 0 0 1 0 1 0 0 1 0 1 1 0 1 0 0 1 1 0\n",
      " 0 1 0 0 1 1 1 0 0 0 0 0 1 1 0 1 0 0 0 0 0 1 0 0 0 1 0 1 0 0 1 0 1 0 0 0 0\n",
      " 1 1 1 1 1 1 0 1 0 0 0]\n"
     ]
    }
   ],
   "source": [
    "print(y_pred)"
   ]
  },
  {
   "cell_type": "code",
   "execution_count": 28,
   "id": "5f0b9d59",
   "metadata": {
    "execution": {
     "iopub.execute_input": "2023-10-29T07:11:05.334467Z",
     "iopub.status.busy": "2023-10-29T07:11:05.333850Z",
     "iopub.status.idle": "2023-10-29T07:11:05.343124Z",
     "shell.execute_reply": "2023-10-29T07:11:05.341537Z"
    },
    "papermill": {
     "duration": 0.021287,
     "end_time": "2023-10-29T07:11:05.345765",
     "exception": false,
     "start_time": "2023-10-29T07:11:05.324478",
     "status": "completed"
    },
    "tags": []
   },
   "outputs": [
    {
     "name": "stdout",
     "output_type": "stream",
     "text": [
      "79.91\n"
     ]
    }
   ],
   "source": [
    "acc_logistic=round(clf.score(x_train,y_train)*100,2)\n",
    "print(acc_logistic)"
   ]
  },
  {
   "cell_type": "code",
   "execution_count": 29,
   "id": "caedef83",
   "metadata": {
    "execution": {
     "iopub.execute_input": "2023-10-29T07:11:05.365940Z",
     "iopub.status.busy": "2023-10-29T07:11:05.365459Z",
     "iopub.status.idle": "2023-10-29T07:11:05.375497Z",
     "shell.execute_reply": "2023-10-29T07:11:05.374324Z"
    },
    "papermill": {
     "duration": 0.021952,
     "end_time": "2023-10-29T07:11:05.377861",
     "exception": false,
     "start_time": "2023-10-29T07:11:05.355909",
     "status": "completed"
    },
    "tags": []
   },
   "outputs": [
    {
     "name": "stdout",
     "output_type": "stream",
     "text": [
      "Your submission was sucessfully saved\n"
     ]
    }
   ],
   "source": [
    "output=pd.DataFrame({'PassengerId':test_df.PassengerId,'Survived':y_pred})\n",
    "output.to_csv('my_submission.csv',index=False)\n",
    "print('Your submission was sucessfully saved')"
   ]
  }
 ],
 "metadata": {
  "kernelspec": {
   "display_name": "Python 3",
   "language": "python",
   "name": "python3"
  },
  "language_info": {
   "codemirror_mode": {
    "name": "ipython",
    "version": 3
   },
   "file_extension": ".py",
   "mimetype": "text/x-python",
   "name": "python",
   "nbconvert_exporter": "python",
   "pygments_lexer": "ipython3",
   "version": "3.10.12"
  },
  "papermill": {
   "default_parameters": {},
   "duration": 6.611168,
   "end_time": "2023-10-29T07:11:06.008048",
   "environment_variables": {},
   "exception": null,
   "input_path": "__notebook__.ipynb",
   "output_path": "__notebook__.ipynb",
   "parameters": {},
   "start_time": "2023-10-29T07:10:59.396880",
   "version": "2.4.0"
  }
 },
 "nbformat": 4,
 "nbformat_minor": 5
}
